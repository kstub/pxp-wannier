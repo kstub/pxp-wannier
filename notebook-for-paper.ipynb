{
 "cells": [
  {
   "cell_type": "code",
   "execution_count": null,
   "metadata": {},
   "outputs": [],
   "source": [
    "from wannier import *\n",
    "import matplotlib.pyplot as plt\n",
    "from scipy.linalg import norm\n",
    "\n",
    "# activate latex text rendering\n",
    "from matplotlib import rc\n",
    "rc('text', usetex=True)\n",
    "\n",
    "            \n",
    "%matplotlib inline\n",
    "%load_ext autoreload\n",
    "%autoreload 2"
   ]
  },
  {
   "cell_type": "markdown",
   "metadata": {},
   "source": [
    "# Global Parameters"
   ]
  },
  {
   "cell_type": "code",
   "execution_count": null,
   "metadata": {},
   "outputs": [],
   "source": [
    "sz = 24\n",
    "save_images = True\n",
    "std_pxp_list = [(0,0), (0,1), (0,2), \n",
    "                (sz//2,0), (sz//2,1), (sz//2,2),\n",
    "                (sz-1,0), (sz-1,1), (sz-1,2)]\n",
    "std_pjypj_list = [(0,0), \n",
    "                  (sz//4, sz//4), \n",
    "                  (3*sz//4, sz//4),\n",
    "                  (sz//4, 3*sz//4)]"
   ]
  },
  {
   "cell_type": "markdown",
   "metadata": {},
   "source": [
    "# Testing Functions"
   ]
  },
  {
   "cell_type": "code",
   "execution_count": null,
   "metadata": {},
   "outputs": [],
   "source": [
    "def test_bins(hm, tX, plot_d):\n",
    "    # Diagonalize PXP\n",
    "    E, _ = hm.diag_PXP(tX)\n",
    "    E = np.real_if_close(E)\n",
    "\n",
    "    fig = plt.figure(figsize=(12,6))\n",
    "    ax0 = fig.add_subplot(1,2,1)\n",
    "    ax1 = fig.add_subplot(1,2,2)\n",
    "    \n",
    "    ax0.plot(E, 'o')\n",
    "    ax0.set_xlabel('Eigenvalue Number')\n",
    "    ax0.set_ylabel('Eigenvalue')\n",
    "\n",
    "    ax1.plot(E[:100], 'o')\n",
    "    ax1.set_xlabel('Eigenvalue Number')\n",
    "    ax1.set_ylabel('Eigenvalue')\n",
    "    \n",
    "    if plot_d[\"save_images_b\"] == True:\n",
    "        filename = plot_d[\"prefix\"] + \"_pxp_evals.png\"\n",
    "        plt.savefig(filename, bbox_inches='tight')\n",
    "    plt.show()\n",
    "    \n",
    "    return E\n",
    "\n",
    "def apply_ipp(hm, bins, tY, plot_d):   \n",
    "    if hm.bdy_cond == \"dirichlet\":\n",
    "        pad_value = 0\n",
    "    else:\n",
    "        pad_value = None\n",
    "        \n",
    "    # Plot some efuncs of PXP\n",
    "    if plot_d[\"pxp_list\"] is not None:\n",
    "        for plot_num, (bin_num, idx) in enumerate(plot_d[\"pxp_list\"]):\n",
    "            i = bins[bin_num] + idx\n",
    "            \n",
    "            if plot_d[\"save_images_b\"]:\n",
    "                filename = plot_d[\"prefix\"] + \"_pxp_%d\" % (plot_num)\n",
    "            else:\n",
    "                filename = None\n",
    "            \n",
    "            \n",
    "            hm.plot_function(hm.PXP_V[:,i] + 1e-15, # Prevents underflow in plots\n",
    "                             plot_type=plot_d[\"pxp_plot_type\"],\n",
    "                             filename=filename,\n",
    "                             pad_value=pad_value)\n",
    "            \n",
    "                \n",
    "    print(\"++++++++++++++++++++++++++++++++++++++++++++\")\n",
    "    \n",
    "    # Plot some efuncs of PjYPj\n",
    "    if plot_d[\"pjypj_list\"] is not None:\n",
    "        for plot_num, (bin_num, idx) in enumerate(plot_d[\"pjypj_list\"]):\n",
    "            i = bins[bin_num] + idx\n",
    "            \n",
    "            if plot_d[\"save_images_b\"]:\n",
    "                filename = plot_d[\"prefix\"] + \"_pjypj_%d\" % (plot_num)\n",
    "            else:\n",
    "                filename = None\n",
    "            \n",
    "            Wj = hm.diag_PjYPj(tY, bins, j0=bin_num)\n",
    "            hm.plot_function(Wj[:,idx] + 1e-15, # Prevents underflow in plots\n",
    "                             plot_type=plot_d[\"pjypj_plot_type\"],\n",
    "                             filename=filename, \n",
    "                             pad_value=pad_value)"
   ]
  },
  {
   "cell_type": "markdown",
   "metadata": {},
   "source": [
    "# Initial $PXP$ Plot"
   ]
  },
  {
   "cell_type": "code",
   "execution_count": null,
   "metadata": {},
   "outputs": [],
   "source": [
    "plotting_parameters = { \"save_images_b\": False } # Disables default plot saving behavior\n",
    "\n",
    "model_parameters_topo = \\\n",
    "{ \n",
    "    \"N\": sz,\n",
    "    \"M\": sz,\n",
    "    \"t\": 1,\n",
    "    \"tp\": 1/4,\n",
    "    \"v\": 0,\n",
    "    \"phi\": np.pi/2,\n",
    "    \"bdy_cond\": \"periodic\",\n",
    "    \"noise\": 0\n",
    "}\n",
    "\n",
    "model_parameters_non_topo = \\\n",
    "{ \n",
    "    \"N\": sz,\n",
    "    \"M\": sz,\n",
    "    \"t\": 1,\n",
    "    \"tp\": 0,\n",
    "    \"v\": 1,\n",
    "    \"phi\": np.pi/2,\n",
    "    \"bdy_cond\": \"periodic\",\n",
    "    \"noise\": 0\n",
    "}"
   ]
  },
  {
   "cell_type": "code",
   "execution_count": null,
   "metadata": {},
   "outputs": [],
   "source": [
    "hm_topo = HaldaneModel(**model_parameters_topo)\n",
    "hm_non_topo = HaldaneModel(**model_parameters_non_topo)\n",
    "\n",
    "X, _ = hm_topo.gen_position_ops(hm_topo.N, hm_topo.M)\n",
    "\n",
    "E_non_topo = test_bins(hm_non_topo, X, plotting_parameters)\n",
    "E_topo = test_bins(hm_topo, X, plotting_parameters)\n",
    "\n",
    "fig = plt.figure(figsize=(12,6))\n",
    "ax0 = fig.add_subplot(1, 2, 1)\n",
    "ax1 = fig.add_subplot(1, 2, 2)\n",
    "\n",
    "ax0.plot(E_non_topo[:378], 'o')\n",
    "ax0.set_xlabel('Eigenvalue Number')\n",
    "ax0.set_ylabel('Eigenvalue')\n",
    "ax0.set_title('Non-Topological Case')\n",
    "\n",
    "\n",
    "ax1.plot(E_topo[:378], 'o')\n",
    "ax1.set_xlabel('Eigenvalue Number')\n",
    "ax1.set_ylabel('Eigenvalue')\n",
    "ax1.set_title('Topological Case')\n",
    "\n",
    "filename = \"./images/pxp_evals_topo_comparison_zoom.png\"\n",
    "plt.savefig(filename, bbox_inches='tight')\n",
    "plt.show()"
   ]
  },
  {
   "cell_type": "markdown",
   "metadata": {},
   "source": [
    "# Dirichlet (no disorder)"
   ]
  },
  {
   "cell_type": "code",
   "execution_count": null,
   "metadata": {
    "code_folding": []
   },
   "outputs": [],
   "source": [
    "plotting_parameters = \\\n",
    "{\n",
    "    \"prefix\": \"./images/dirichlet_no_disorder\",\n",
    "    \"save_images_b\": save_images,\n",
    "    \"pxp_list\": std_pxp_list,\n",
    "    \"pxp_plot_type\": \"3d\",\n",
    "    \"pjypj_list\": std_pjypj_list,\n",
    "    \"pjypj_plot_type\": \"both\"\n",
    "}\n",
    "model_parameters = \\\n",
    "{ \n",
    "    \"N\": sz,\n",
    "    \"M\": sz,\n",
    "    \"t\": 1,\n",
    "    \"tp\": .1,\n",
    "    \"v\": 1,\n",
    "    \"phi\": np.pi/2,\n",
    "    \"bdy_cond\": \"dirichlet\",\n",
    "    \"noise\": 0\n",
    "}"
   ]
  },
  {
   "cell_type": "code",
   "execution_count": null,
   "metadata": {
    "scrolled": false
   },
   "outputs": [],
   "source": [
    "hm = HaldaneModel(**model_parameters)\n",
    "X, Y = hm.gen_position_ops(sz, sz)\n",
    "\n",
    "test_bins(hm, X, plotting_parameters)\n",
    "\n",
    "# Map eigenvalues to bins\n",
    "bins = hm.expected_bins(\"X\")\n",
    "\n",
    "apply_ipp(hm, bins, Y, plotting_parameters)"
   ]
  },
  {
   "cell_type": "markdown",
   "metadata": {},
   "source": [
    "# Dirichlet (weak disorder)"
   ]
  },
  {
   "cell_type": "code",
   "execution_count": null,
   "metadata": {},
   "outputs": [],
   "source": [
    "plotting_parameters = \\\n",
    "{\n",
    "    \"prefix\": \"./images/dirichlet_weak_disorder\",\n",
    "    \"save_images_b\": save_images,\n",
    "    \"pxp_list\": None,\n",
    "    \"pxp_plot_type\": \"3d\",\n",
    "    \"pjypj_list\": std_pjypj_list,\n",
    "    \"pjypj_plot_type\": \"both\"\n",
    "}\n",
    "model_parameters = \\\n",
    "{ \n",
    "    \"N\": sz,\n",
    "    \"M\": sz,\n",
    "    \"t\": 1,\n",
    "    \"tp\": .1,\n",
    "    \"v\": 1,\n",
    "    \"phi\": np.pi/2,\n",
    "    \"bdy_cond\": \"dirichlet\",\n",
    "    \"noise\": np.sqrt(.25)\n",
    "}"
   ]
  },
  {
   "cell_type": "code",
   "execution_count": null,
   "metadata": {
    "scrolled": false
   },
   "outputs": [],
   "source": [
    "hm = HaldaneModel(**model_parameters)\n",
    "X, Y = hm.gen_position_ops(sz, sz)\n",
    "\n",
    "np.random.seed(8)\n",
    "E = test_bins(hm, X, plotting_parameters)\n",
    "\n",
    "# Map eigenvalues to bins\n",
    "bins = hm.expected_bins(\"X\")\n",
    "\n",
    "apply_ipp(hm, bins, Y, plotting_parameters)"
   ]
  },
  {
   "cell_type": "markdown",
   "metadata": {},
   "source": [
    "# Dirichlet (rotated)"
   ]
  },
  {
   "cell_type": "code",
   "execution_count": null,
   "metadata": {},
   "outputs": [],
   "source": [
    "# Update pjypj list\n",
    "rot_pxp_list = [(sz//3,0), (sz//3,1), (sz//3,2), \n",
    "                (2*sz//3,0), (2*sz//3,1), (2*sz//3,2),\n",
    "                (sz,0), (sz,1), (sz,2)]\n",
    "rot_pjypj_list = [(0,0), (sz//2,sz//8), (sz,sz//8), (3*sz//2,sz//8) ]\n",
    "\n",
    "\n",
    "plotting_parameters = \\\n",
    "{\n",
    "    \"prefix\": \"./images/dirichlet_rotated\",\n",
    "    \"save_images_b\": save_images,\n",
    "    \"pxp_list\": rot_pxp_list,\n",
    "    \"pxp_plot_type\": \"3d\",\n",
    "    \"pjypj_list\": rot_pjypj_list,\n",
    "    \"pjypj_plot_type\": \"both\"\n",
    "}\n",
    "model_parameters = \\\n",
    "{ \n",
    "    \"N\": sz,\n",
    "    \"M\": sz,\n",
    "    \"t\": 1,\n",
    "    \"tp\": .1,\n",
    "    \"v\": 1,\n",
    "    \"phi\": np.pi/2,\n",
    "    \"bdy_cond\": \"dirichlet\",\n",
    "    \"noise\": 0\n",
    "}"
   ]
  },
  {
   "cell_type": "code",
   "execution_count": null,
   "metadata": {
    "scrolled": false
   },
   "outputs": [],
   "source": [
    "hm = HaldaneModel(**model_parameters)\n",
    "X, Y = hm.gen_position_ops(sz, sz)\n",
    "\n",
    "E = test_bins(hm, (X + Y) / np.sqrt(2), plotting_parameters)\n",
    "\n",
    "# Map eigenvalues to bins\n",
    "bins = np.nonzero([ E[i+1] - E[i] > .3 for i in range(E.size-1)])[0] + 1\n",
    "bins = np.concatenate(([0], bins, [E.size]))\n",
    "\n",
    "\n",
    "apply_ipp(hm, bins, (X - Y) / np.sqrt(2), plotting_parameters)"
   ]
  },
  {
   "cell_type": "markdown",
   "metadata": {},
   "source": [
    "# Dirichlet (strong disorder)"
   ]
  },
  {
   "cell_type": "code",
   "execution_count": null,
   "metadata": {},
   "outputs": [],
   "source": [
    "plotting_parameters = \\\n",
    "{\n",
    "    \"prefix\": \"./images/dirichlet_strong_disorder\",\n",
    "    \"save_images_b\": save_images,\n",
    "    \"pxp_list\": None,\n",
    "    \"pxp_plot_type\": \"3d\",\n",
    "    \"pjypj_list\": None,\n",
    "    \"pjypj_plot_type\": \"2d\"\n",
    "}\n",
    "model_parameters = \\\n",
    "{ \n",
    "    \"N\": sz,\n",
    "    \"M\": sz,\n",
    "    \"t\": 1,\n",
    "    \"tp\": .1,\n",
    "    \"v\": 1,\n",
    "    \"phi\": np.pi/2,\n",
    "    \"bdy_cond\": \"dirichlet\",\n",
    "    \"noise\": np.sqrt(100)\n",
    "}"
   ]
  },
  {
   "cell_type": "code",
   "execution_count": null,
   "metadata": {},
   "outputs": [],
   "source": [
    "hm = HaldaneModel(**model_parameters)\n",
    "X, Y = hm.gen_position_ops(sz, sz)\n",
    "\n",
    "np.random.seed(8)\n",
    "E = test_bins(hm, X, plotting_parameters)"
   ]
  },
  {
   "cell_type": "code",
   "execution_count": null,
   "metadata": {},
   "outputs": [],
   "source": [
    "_, V = np.linalg.eigh(hm.H)\n",
    "\n",
    "V_list = [0, 140, 280, 420]\n",
    "for plot_num, idx in enumerate(V_list):\n",
    "    if plotting_parameters[\"save_images_b\"]:\n",
    "        filename = plotting_parameters[\"prefix\"] + \"_h_v%d\" % plot_num\n",
    "    else:\n",
    "        filename = None\n",
    "    \n",
    "    hm.plot_function(V[:,idx] + 1e-15, plot_type=\"2d\", filename = filename)\n"
   ]
  },
  {
   "cell_type": "code",
   "execution_count": null,
   "metadata": {},
   "outputs": [],
   "source": [
    "# Map eigenvalues to bins\n",
    "bins = np.nonzero([ E[i+1] - E[i] > .5 for i in range(E.size-1)])[0] + 1\n",
    "bins = np.concatenate(([0], bins, [E.size]))\n",
    "\n",
    "plotting_parameters[\"pjypj_list\"] = [ (23,0), (10,5), (10,15), (5,20) ]\n",
    "\n",
    "apply_ipp(hm, bins, Y, plotting_parameters)"
   ]
  },
  {
   "cell_type": "markdown",
   "metadata": {},
   "source": [
    "# Periodic (non-topo)"
   ]
  },
  {
   "cell_type": "code",
   "execution_count": null,
   "metadata": {},
   "outputs": [],
   "source": [
    "plotting_parameters = \\\n",
    "{\n",
    "    \"prefix\": \"./images/periodic_non_topo\",\n",
    "    \"save_images_b\": save_images,\n",
    "    \"pxp_list\": None,\n",
    "    \"pxp_plot_type\": \"3d\",\n",
    "    \"pjypj_list\": None,\n",
    "    \"pjypj_plot_type\": \"both\"\n",
    "}\n",
    "model_parameters = \\\n",
    "{ \n",
    "    \"N\": sz,\n",
    "    \"M\": sz,\n",
    "    \"t\": 1,\n",
    "    \"tp\": 0,\n",
    "    \"v\": 1,\n",
    "    \"phi\": np.pi/2,\n",
    "    \"bdy_cond\": \"periodic\",\n",
    "    \"noise\": 0\n",
    "}"
   ]
  },
  {
   "cell_type": "code",
   "execution_count": null,
   "metadata": {
    "scrolled": false
   },
   "outputs": [],
   "source": [
    "hm = HaldaneModel(**model_parameters)\n",
    "X, Y = hm.gen_position_ops(sz, sz)\n",
    "\n",
    "test_bins(hm, X, plotting_parameters)\n",
    "\n",
    "# Map eigenvalues to bins\n",
    "bins = hm.expected_bins(\"X\")\n",
    "l = bins.size\n",
    "bins = np.delete(bins, [l-5,l-4,l-3,l-2])\n",
    "\n",
    "plotting_parameters[\"pjypj_list\"] = [ (0,0), (sz//2, sz//2), (3*sz//4, 3*sz//4), (-2, sz//2), (-2, sz//2+1)]\n",
    "\n",
    "apply_ipp(hm, bins, Y, plotting_parameters)"
   ]
  },
  {
   "cell_type": "markdown",
   "metadata": {},
   "source": [
    "# Periodic (topo)"
   ]
  },
  {
   "cell_type": "code",
   "execution_count": null,
   "metadata": {},
   "outputs": [],
   "source": [
    "plotting_parameters = \\\n",
    "{\n",
    "    \"prefix\": \"./images/periodic_topo\",\n",
    "    \"save_images_b\": save_images,\n",
    "    \"pxp_list\": None,\n",
    "    \"pxp_plot_type\": \"3d\",\n",
    "    \"pjypj_list\": std_pjypj_list,\n",
    "    \"pjypj_plot_type\": \"both\"\n",
    "}\n",
    "model_parameters = \\\n",
    "{ \n",
    "    \"N\": sz,\n",
    "    \"M\": sz,\n",
    "    \"t\": 1,\n",
    "    \"tp\": 1/4,\n",
    "    \"v\": 0,\n",
    "    \"phi\": np.pi/2,\n",
    "    \"bdy_cond\": \"periodic\",\n",
    "    \"noise\": 0\n",
    "}"
   ]
  },
  {
   "cell_type": "code",
   "execution_count": null,
   "metadata": {},
   "outputs": [],
   "source": [
    "hm = HaldaneModel(**model_parameters)\n",
    "X, Y = hm.gen_position_ops(sz, sz)\n",
    "\n",
    "test_bins(hm, X, plotting_parameters)\n",
    "\n",
    "# Map eigenvalues to bins\n",
    "bins = hm.expected_bins(\"X\")\n",
    "\n",
    "apply_ipp(hm, bins, Y, plotting_parameters)"
   ]
  },
  {
   "cell_type": "markdown",
   "metadata": {},
   "source": [
    "# Periodic $PXP$ Topology test"
   ]
  },
  {
   "cell_type": "code",
   "execution_count": null,
   "metadata": {},
   "outputs": [],
   "source": [
    "plotting_parameters = { \"save_images_b\": False } # Disables default plot saving behavior\n",
    "\n",
    "sz2 = 36\n",
    "model_parameters_topo = \\\n",
    "{ \n",
    "    \"N\": sz2//3,\n",
    "    \"M\": 3*sz2,\n",
    "    \"t\": 1,\n",
    "    \"tp\": 1/4,\n",
    "    \"v\": 0,\n",
    "    \"phi\": np.pi/2,\n",
    "    \"bdy_cond\": \"periodic\",\n",
    "    \"noise\": 0\n",
    "}\n",
    "\n",
    "model_parameters_non_topo = \\\n",
    "{ \n",
    "    \"N\": sz2//3,\n",
    "    \"M\": 3*sz2,\n",
    "    \"t\": 1,\n",
    "    \"tp\": 0,\n",
    "    \"v\": 1,\n",
    "    \"phi\": np.pi/2,\n",
    "    \"bdy_cond\": \"periodic\",\n",
    "    \"noise\": 0\n",
    "}"
   ]
  },
  {
   "cell_type": "code",
   "execution_count": null,
   "metadata": {},
   "outputs": [],
   "source": [
    "hm_topo = HaldaneModel(**model_parameters_topo)\n",
    "hm_non_topo = HaldaneModel(**model_parameters_non_topo)\n",
    "\n",
    "X, Y = hm_topo.gen_position_ops(hm_topo.N, hm_topo.M)\n",
    "\n",
    "E_non_topo = test_bins(hm_non_topo, X, plotting_parameters)\n",
    "E_topo = test_bins(hm_topo, X, plotting_parameters)\n",
    "\n",
    "fig = plt.figure(figsize=(12,6))\n",
    "ax0 = fig.add_subplot(1, 2, 1)\n",
    "ax1 = fig.add_subplot(1, 2, 2)\n",
    "\n",
    "ax0.plot(E_non_topo, 'o')\n",
    "ax0.set_xlabel('Eigenvalue Number')\n",
    "ax0.set_ylabel('Eigenvalue')\n",
    "ax0.set_title('Non-Topological Case')\n",
    "\n",
    "\n",
    "ax1.plot(E_topo, 'o')\n",
    "ax1.set_xlabel('Eigenvalue Number')\n",
    "ax1.set_ylabel('Eigenvalue')\n",
    "ax1.set_title('Topological Case')\n",
    "\n",
    "filename = \"./images/pxp_evals_topo_comparison.png\"\n",
    "plt.savefig(filename, bbox_inches='tight')\n",
    "plt.show()"
   ]
  },
  {
   "cell_type": "code",
   "execution_count": null,
   "metadata": {},
   "outputs": [],
   "source": []
  },
  {
   "cell_type": "code",
   "execution_count": null,
   "metadata": {},
   "outputs": [],
   "source": []
  }
 ],
 "metadata": {
  "kernelspec": {
   "display_name": "Python 3",
   "language": "python",
   "name": "python3"
  },
  "language_info": {
   "codemirror_mode": {
    "name": "ipython",
    "version": 3
   },
   "file_extension": ".py",
   "mimetype": "text/x-python",
   "name": "python",
   "nbconvert_exporter": "python",
   "pygments_lexer": "ipython3",
   "version": "3.7.4"
  }
 },
 "nbformat": 4,
 "nbformat_minor": 2
}
